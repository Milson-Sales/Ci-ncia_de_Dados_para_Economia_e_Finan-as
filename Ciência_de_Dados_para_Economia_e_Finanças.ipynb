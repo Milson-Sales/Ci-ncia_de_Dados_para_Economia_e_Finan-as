{
  "nbformat": 4,
  "nbformat_minor": 0,
  "metadata": {
    "colab": {
      "name": "Ciência_de_Dados_para_Economia_e_Finanças.ipynb",
      "provenance": []
    },
    "kernelspec": {
      "name": "python3",
      "display_name": "Python 3"
    },
    "language_info": {
      "name": "python"
    }
  },
  "cells": [
    {
      "cell_type": "markdown",
      "source": [
        "Ciência de Dados para Economia e Finanças\n",
        "\n",
        "Modelo de Previsão da Inflação medida pelo IPCA\n",
        "\n",
        "Vítor Wilher, Cientista-Chefe\n",
        "\n",
        "Nome : Milson da Silva Sales"
      ],
      "metadata": {
        "id": "E3iaRPg9d8nv"
      }
    },
    {
      "cell_type": "code",
      "source": [
        "# Modelo de Previsão da Inflação Medida pelo IPCA"
      ],
      "metadata": {
        "id": "HdlnSV4gdwwa"
      },
      "execution_count": null,
      "outputs": []
    },
    {
      "cell_type": "markdown",
      "source": [
        "\n",
        "Exercício Proposto :\n",
        "\n",
        "**Coleta** --> Foram coletado os arquivos ou Dataset no site do IBGE, BCB e também  uma parte teórica no google.\n",
        "\n",
        "**Tratamento** --> Os arquivos serão tratados com as ferramentas do Python.\n",
        "\n",
        "**Modelagem** --> Significado de Modelagem - substantivo feminino\n",
        "Ação ou efeito de modelar; modelação.\n",
        "Técnica de trabalho escolar, geralmente para crianças, que leva a fazer trabalhos de massa.\n",
        "Modelagem é sinônimo de Modelação\n",
        "\n",
        "modelação\n",
        "Significado de Modelação\n",
        "substantivo feminino\n",
        "Ato ou arte de modelar, de fazer o modelo ou o molde de alguma coisa; modelagem.\n",
        "Obra de modelador, artefato produzido por quem modela.\n",
        "\n",
        "**Apresentação de Resultados** --> Com as ferramentas do Python nesse script."
      ],
      "metadata": {
        "id": "wYYdELbwVCXD"
      }
    },
    {
      "cell_type": "markdown",
      "source": [
        "Dicionário dos Dados\n",
        "\n",
        "***Índice IPCA ***--> A sigla IPCA corresponde ao Índice Nacional de Preços ao Consumidor Amplo. A diferença entre eles está no uso do termo “amplo”. O IPCA engloba uma parcela maior da população. Ele aponta a variação do custo de vida médio de famílias com renda mensal de 1 e 40 salários mínimos.\n",
        "\n",
        "FONTE :\n",
        "\n",
        "IBGE – Instituto Brasileiro de Geografia e Estatística\n",
        "\n",
        "Internet : Google\n",
        "\n",
        "O que é IPCA ?\n",
        "\n",
        "O Sistema Nacional de Índices de Preços ao Consumidor – SNIPC produz contínua e sistematicamente o Índice Nacional de Preços ao Consumidor Amplo – IPCA que tem por objetivo medir a inflação de um conjunto de produtos e serviços comercializados no varejo, referentes ao consumo pessoal das famílias. Esta faixa de renda foi criada com o objetivo de garantir uma cobertura de 90% das famílias pertencentes às áreas urbanas de cobertura do Sistema Nacional de Índices de Preços ao Consumidor - SNIPC.\n",
        "\n",
        "Esse índice de preços tem como unidade de coleta estabelecimentos comerciais e de prestação de serviços, concessionária de serviços públicos e intenet e sua coleta estende-se, em geral, do dia 01 a 30 do mês de referência.\n",
        "Atualmente, a população-objetivo do IPCA abrange as famílias com rendimentos de 1 a 40 salários mínimos, qualquer que seja a fonte, residentes nas áreas urbanas das regiões de abrangência do SNIPC, as quais são: regiões metropolitanas de Belém, Fortaleza, Recife, Salvador, Belo Horizonte, Vitória, Rio de Janeiro, São Paulo, Curitiba, Porto Alegre, além do Distrito Federal e dos municípios de Goiânia, Campo Grande, Rio Branco, São Luís e Aracaju.\n",
        "\n",
        "Como fazer projeção do IPCA?\n",
        "\n",
        "A estimativa para 2021 foi muito acima da margem de tolerância da meta (3,75%, com 1,50 ponto porcentual de banda), enquanto, para 2022, se aproxima do teto (5,0%). Para 2023, a meta é de 3,25%, com margem de 1,5 ponto (taxa de 1,75% a 4,75%). Já para 2024, o objetivo é de 3,0%, com tolerância de 1,5% a 4,5%.\n",
        "\n",
        "Como prever o IPCA?\n",
        "\n",
        "O horizonte de previsão é de 12 meses à frente. Esse é o mesmo horizonte de previsão usado na pesquisa Focus para prever a série IPCA acumulada em 12 meses. Além de possibilitar a comparação com a Focus, essa escolha do horizonte de previsão também é útil para o BC, dado o efeito defasado da política monetária. \n",
        "\n",
        "Fonte : https://www.youtube.com/watch?v=7rFsu48oBn8\n",
        "\n",
        "www.bcb.gov.br\n",
        "\n",
        "https://www3.bcb.gov.br/sgspub/localizarseries/localizarSeries.do?method=prepararTelaLocalizarSeries\n",
        "\n",
        "http://api.bcb.gov.br/dados/serie/bcdata.sgs.20542/dados?formato=json"
      ],
      "metadata": {
        "id": "cNblzPyIZ_bg"
      }
    },
    {
      "cell_type": "code",
      "source": [
        "# Importação das Bibliotecas \n",
        "import pandas as pd\n",
        "import numpy as np\n",
        "import seaborn as sns\n",
        "import seaborn as sns; sns.set()\n",
        "import matplotlib.pyplot as plt\n",
        "from statsmodels.tsa.seasonal import seasonal_decompose\n",
        "from sklearn.model_selection import train_test_split\n",
        "import matplotlib\n",
        "matplotlib.rcParams['figure.figsize'] = (16,8)"
      ],
      "metadata": {
        "id": "RKoOhiuwZbn2",
        "colab": {
          "base_uri": "https://localhost:8080/"
        },
        "outputId": "8e7d5e7d-6502-450d-d495-fc6ab0caaab0"
      },
      "execution_count": 1,
      "outputs": [
        {
          "output_type": "stream",
          "name": "stderr",
          "text": [
            "/usr/local/lib/python3.7/dist-packages/statsmodels/tools/_testing.py:19: FutureWarning: pandas.util.testing is deprecated. Use the functions in the public API at pandas.testing instead.\n",
            "  import pandas.util.testing as tm\n"
          ]
        }
      ]
    },
    {
      "cell_type": "code",
      "source": [
        "!pip install python-bcb\n"
      ],
      "metadata": {
        "id": "puAUigKIEtxC"
      },
      "execution_count": null,
      "outputs": []
    },
    {
      "cell_type": "code",
      "source": [
        "from bcb import sgs"
      ],
      "metadata": {
        "id": "Llx9XQ7jE1e5"
      },
      "execution_count": 3,
      "outputs": []
    },
    {
      "cell_type": "code",
      "source": [
        "def consulta_bc(codigo_bcb):\n",
        "  url = 'http://api.bcb.gov.br/dados/serie/bcdata.sgs.{}/dados?formato=json'.format(codigo_bcb)\n",
        "  df = pd.read_json(url)\n",
        "  df['data'] = pd.to_datetime(df['data'], dayfirst=True)\n",
        "  df.set_index('data', inplace=True)\n",
        "  return df"
      ],
      "metadata": {
        "id": "XVAH8wyKWuMG"
      },
      "execution_count": 4,
      "outputs": []
    },
    {
      "cell_type": "code",
      "source": [
        "ipca = consulta_bc(433)"
      ],
      "metadata": {
        "id": "TKKxNjG7XJWe"
      },
      "execution_count": 5,
      "outputs": []
    },
    {
      "cell_type": "code",
      "source": [
        "ipca"
      ],
      "metadata": {
        "id": "r82TvXavXTPF",
        "colab": {
          "base_uri": "https://localhost:8080/",
          "height": 455
        },
        "outputId": "75084f2a-59ae-4551-d014-5bc3777231f7"
      },
      "execution_count": 27,
      "outputs": [
        {
          "output_type": "execute_result",
          "data": {
            "text/plain": [
              "              data\n",
              "Date              \n",
              "2000-05-31  0.1373\n",
              "2000-06-01  0.1406\n",
              "2000-06-02  0.1340\n",
              "2000-06-05  0.1253\n",
              "2000-06-06  0.1307\n",
              "...            ...\n",
              "2012-12-24  0.0756\n",
              "2012-12-26  0.0643\n",
              "2012-12-27  0.0660\n",
              "2012-12-28  0.0641\n",
              "2012-12-31  0.0706\n",
              "\n",
              "[3162 rows x 1 columns]"
            ],
            "text/html": [
              "\n",
              "  <div id=\"df-7e9b077f-22d5-4630-a409-1e6825c5232a\">\n",
              "    <div class=\"colab-df-container\">\n",
              "      <div>\n",
              "<style scoped>\n",
              "    .dataframe tbody tr th:only-of-type {\n",
              "        vertical-align: middle;\n",
              "    }\n",
              "\n",
              "    .dataframe tbody tr th {\n",
              "        vertical-align: top;\n",
              "    }\n",
              "\n",
              "    .dataframe thead th {\n",
              "        text-align: right;\n",
              "    }\n",
              "</style>\n",
              "<table border=\"1\" class=\"dataframe\">\n",
              "  <thead>\n",
              "    <tr style=\"text-align: right;\">\n",
              "      <th></th>\n",
              "      <th>data</th>\n",
              "    </tr>\n",
              "    <tr>\n",
              "      <th>Date</th>\n",
              "      <th></th>\n",
              "    </tr>\n",
              "  </thead>\n",
              "  <tbody>\n",
              "    <tr>\n",
              "      <th>2000-05-31</th>\n",
              "      <td>0.1373</td>\n",
              "    </tr>\n",
              "    <tr>\n",
              "      <th>2000-06-01</th>\n",
              "      <td>0.1406</td>\n",
              "    </tr>\n",
              "    <tr>\n",
              "      <th>2000-06-02</th>\n",
              "      <td>0.1340</td>\n",
              "    </tr>\n",
              "    <tr>\n",
              "      <th>2000-06-05</th>\n",
              "      <td>0.1253</td>\n",
              "    </tr>\n",
              "    <tr>\n",
              "      <th>2000-06-06</th>\n",
              "      <td>0.1307</td>\n",
              "    </tr>\n",
              "    <tr>\n",
              "      <th>...</th>\n",
              "      <td>...</td>\n",
              "    </tr>\n",
              "    <tr>\n",
              "      <th>2012-12-24</th>\n",
              "      <td>0.0756</td>\n",
              "    </tr>\n",
              "    <tr>\n",
              "      <th>2012-12-26</th>\n",
              "      <td>0.0643</td>\n",
              "    </tr>\n",
              "    <tr>\n",
              "      <th>2012-12-27</th>\n",
              "      <td>0.0660</td>\n",
              "    </tr>\n",
              "    <tr>\n",
              "      <th>2012-12-28</th>\n",
              "      <td>0.0641</td>\n",
              "    </tr>\n",
              "    <tr>\n",
              "      <th>2012-12-31</th>\n",
              "      <td>0.0706</td>\n",
              "    </tr>\n",
              "  </tbody>\n",
              "</table>\n",
              "<p>3162 rows × 1 columns</p>\n",
              "</div>\n",
              "      <button class=\"colab-df-convert\" onclick=\"convertToInteractive('df-7e9b077f-22d5-4630-a409-1e6825c5232a')\"\n",
              "              title=\"Convert this dataframe to an interactive table.\"\n",
              "              style=\"display:none;\">\n",
              "        \n",
              "  <svg xmlns=\"http://www.w3.org/2000/svg\" height=\"24px\"viewBox=\"0 0 24 24\"\n",
              "       width=\"24px\">\n",
              "    <path d=\"M0 0h24v24H0V0z\" fill=\"none\"/>\n",
              "    <path d=\"M18.56 5.44l.94 2.06.94-2.06 2.06-.94-2.06-.94-.94-2.06-.94 2.06-2.06.94zm-11 1L8.5 8.5l.94-2.06 2.06-.94-2.06-.94L8.5 2.5l-.94 2.06-2.06.94zm10 10l.94 2.06.94-2.06 2.06-.94-2.06-.94-.94-2.06-.94 2.06-2.06.94z\"/><path d=\"M17.41 7.96l-1.37-1.37c-.4-.4-.92-.59-1.43-.59-.52 0-1.04.2-1.43.59L10.3 9.45l-7.72 7.72c-.78.78-.78 2.05 0 2.83L4 21.41c.39.39.9.59 1.41.59.51 0 1.02-.2 1.41-.59l7.78-7.78 2.81-2.81c.8-.78.8-2.07 0-2.86zM5.41 20L4 18.59l7.72-7.72 1.47 1.35L5.41 20z\"/>\n",
              "  </svg>\n",
              "      </button>\n",
              "      \n",
              "  <style>\n",
              "    .colab-df-container {\n",
              "      display:flex;\n",
              "      flex-wrap:wrap;\n",
              "      gap: 12px;\n",
              "    }\n",
              "\n",
              "    .colab-df-convert {\n",
              "      background-color: #E8F0FE;\n",
              "      border: none;\n",
              "      border-radius: 50%;\n",
              "      cursor: pointer;\n",
              "      display: none;\n",
              "      fill: #1967D2;\n",
              "      height: 32px;\n",
              "      padding: 0 0 0 0;\n",
              "      width: 32px;\n",
              "    }\n",
              "\n",
              "    .colab-df-convert:hover {\n",
              "      background-color: #E2EBFA;\n",
              "      box-shadow: 0px 1px 2px rgba(60, 64, 67, 0.3), 0px 1px 3px 1px rgba(60, 64, 67, 0.15);\n",
              "      fill: #174EA6;\n",
              "    }\n",
              "\n",
              "    [theme=dark] .colab-df-convert {\n",
              "      background-color: #3B4455;\n",
              "      fill: #D2E3FC;\n",
              "    }\n",
              "\n",
              "    [theme=dark] .colab-df-convert:hover {\n",
              "      background-color: #434B5C;\n",
              "      box-shadow: 0px 1px 3px 1px rgba(0, 0, 0, 0.15);\n",
              "      filter: drop-shadow(0px 1px 2px rgba(0, 0, 0, 0.3));\n",
              "      fill: #FFFFFF;\n",
              "    }\n",
              "  </style>\n",
              "\n",
              "      <script>\n",
              "        const buttonEl =\n",
              "          document.querySelector('#df-7e9b077f-22d5-4630-a409-1e6825c5232a button.colab-df-convert');\n",
              "        buttonEl.style.display =\n",
              "          google.colab.kernel.accessAllowed ? 'block' : 'none';\n",
              "\n",
              "        async function convertToInteractive(key) {\n",
              "          const element = document.querySelector('#df-7e9b077f-22d5-4630-a409-1e6825c5232a');\n",
              "          const dataTable =\n",
              "            await google.colab.kernel.invokeFunction('convertToInteractive',\n",
              "                                                     [key], {});\n",
              "          if (!dataTable) return;\n",
              "\n",
              "          const docLinkHtml = 'Like what you see? Visit the ' +\n",
              "            '<a target=\"_blank\" href=https://colab.research.google.com/notebooks/data_table.ipynb>data table notebook</a>'\n",
              "            + ' to learn more about interactive tables.';\n",
              "          element.innerHTML = '';\n",
              "          dataTable['output_type'] = 'display_data';\n",
              "          await google.colab.output.renderOutput(dataTable, element);\n",
              "          const docLink = document.createElement('div');\n",
              "          docLink.innerHTML = docLinkHtml;\n",
              "          element.appendChild(docLink);\n",
              "        }\n",
              "      </script>\n",
              "    </div>\n",
              "  </div>\n",
              "  "
            ]
          },
          "metadata": {},
          "execution_count": 27
        }
      ]
    },
    {
      "cell_type": "code",
      "source": [
        "ipca.shape"
      ],
      "metadata": {
        "colab": {
          "base_uri": "https://localhost:8080/"
        },
        "id": "oSAnY0jl9t0h",
        "outputId": "d06ea8b1-14b3-4827-b545-28dae8eb2a88"
      },
      "execution_count": 7,
      "outputs": [
        {
          "output_type": "execute_result",
          "data": {
            "text/plain": [
              "(506, 1)"
            ]
          },
          "metadata": {},
          "execution_count": 7
        }
      ]
    },
    {
      "cell_type": "code",
      "source": [
        "ipca.isnull().sum()"
      ],
      "metadata": {
        "id": "RHqIi44Th3-D",
        "colab": {
          "base_uri": "https://localhost:8080/"
        },
        "outputId": "20f64a82-9376-4f19-ff19-2450b53734ab"
      },
      "execution_count": 8,
      "outputs": [
        {
          "output_type": "execute_result",
          "data": {
            "text/plain": [
              "valor    0\n",
              "dtype: int64"
            ]
          },
          "metadata": {},
          "execution_count": 8
        }
      ]
    },
    {
      "cell_type": "code",
      "source": [
        "ipca.dtypes"
      ],
      "metadata": {
        "colab": {
          "base_uri": "https://localhost:8080/"
        },
        "id": "z4zbVzN2cOgs",
        "outputId": "4e5eacd1-0b17-4d4a-a462-95c1424372f3"
      },
      "execution_count": 9,
      "outputs": [
        {
          "output_type": "execute_result",
          "data": {
            "text/plain": [
              "valor    float64\n",
              "dtype: object"
            ]
          },
          "metadata": {},
          "execution_count": 9
        }
      ]
    },
    {
      "cell_type": "code",
      "source": [
        "ipca.info()"
      ],
      "metadata": {
        "id": "e0nvV2ZdcV5U"
      },
      "execution_count": null,
      "outputs": []
    },
    {
      "cell_type": "code",
      "source": [
        "ipca.columns"
      ],
      "metadata": {
        "colab": {
          "base_uri": "https://localhost:8080/"
        },
        "id": "vBs_Zz2chQaF",
        "outputId": "29bae6b7-78bf-4173-824d-c2d8775099a9"
      },
      "execution_count": 11,
      "outputs": [
        {
          "output_type": "execute_result",
          "data": {
            "text/plain": [
              "Index(['valor'], dtype='object')"
            ]
          },
          "metadata": {},
          "execution_count": 11
        }
      ]
    },
    {
      "cell_type": "code",
      "source": [
        "# Fonte https://www.bcb.gov.br/controleinflacao/historicotaxasjuros"
      ],
      "metadata": {
        "id": "2MlRXRWRgnYI"
      },
      "execution_count": null,
      "outputs": []
    },
    {
      "cell_type": "code",
      "source": [
        "!pip install yfinance --upgrade --no-cache-dir\n",
        "import yfinance as yf\n",
        "yf.pdr_override()"
      ],
      "metadata": {
        "id": "5vEDonJROqzI"
      },
      "execution_count": null,
      "outputs": []
    },
    {
      "cell_type": "code",
      "source": [
        "import pandas_datareader.data as web"
      ],
      "metadata": {
        "id": "-0YWetZzNfZC"
      },
      "execution_count": 13,
      "outputs": []
    },
    {
      "cell_type": "code",
      "source": [
        "ipca"
      ],
      "metadata": {
        "id": "-_iWx_e0fOv-"
      },
      "execution_count": null,
      "outputs": []
    },
    {
      "cell_type": "code",
      "source": [
        "ipca = web.get_data_yahoo(['valor', 'data'],\n",
        "                                start = '2000-05-31',\n",
        "                                  end = '2012-12-31')\n",
        " \n",
        "#ipca = ipca.dropna()\n",
        " \n",
        "sns.set()\n",
        " \n",
        "ipca.plot(subplots = True, figsize = (20, 6))"
      ],
      "metadata": {
        "id": "7Yw71CsjI6gH"
      },
      "execution_count": null,
      "outputs": []
    },
    {
      "cell_type": "code",
      "source": [
        "! pip install sidrapy"
      ],
      "metadata": {
        "id": "PK-h8Jxcab34"
      },
      "execution_count": null,
      "outputs": []
    },
    {
      "cell_type": "code",
      "source": [
        "import time\n",
        "import sidrapy "
      ],
      "metadata": {
        "id": "SXbmS-5HZ5QY"
      },
      "execution_count": 31,
      "outputs": []
    },
    {
      "cell_type": "code",
      "source": [
        "plt.plot(ipca)\n",
        "plt.style.use('default')"
      ],
      "metadata": {
        "id": "Y29o5lowQtCQ"
      },
      "execution_count": null,
      "outputs": []
    },
    {
      "cell_type": "code",
      "source": [
        "sns.set_theme()\n",
        "sns.lineplot(data = ipca)"
      ],
      "metadata": {
        "id": "qF8f1jD1SYYb"
      },
      "execution_count": null,
      "outputs": []
    },
    {
      "cell_type": "code",
      "source": [
        "ipca.plot(grid=True, marker=\",\")\n",
        "plt.xlabel('data')\n",
        "plt.ylabel('valor')\n",
        "plt.title(u'Série histórica do IPCA')\n",
        "plt.show()"
      ],
      "metadata": {
        "id": "kv-texYheU2X",
        "colab": {
          "base_uri": "https://localhost:8080/",
          "height": 444
        },
        "outputId": "95a41b50-e30c-4f03-fd82-9a5ec986a7d5"
      },
      "execution_count": 40,
      "outputs": [
        {
          "output_type": "display_data",
          "data": {
            "text/plain": [
              "<Figure size 640x480 with 1 Axes>"
            ],
            "image/png": "[encoded data removed]"
          },
          "metadata": {}
        }
      ]
    },
    {
      "cell_type": "code",
      "source": [
        "# Variação Mensal por Cidade em Fevereiro de 2022\n",
        "IPCA_Cidade = pd.read_csv('/content/Variação Mensal por Cidade Fev-2022.csv', delimiter=';')\n"
      ],
      "metadata": {
        "id": "3cGr3G1KmIzV"
      },
      "execution_count": 44,
      "outputs": []
    },
    {
      "cell_type": "code",
      "source": [
        "IPCA_Cidade"
      ],
      "metadata": {
        "id": "pnF1g_TEmth-"
      },
      "execution_count": null,
      "outputs": []
    },
    {
      "cell_type": "code",
      "source": [
        "IPCA_Cidade.shape"
      ],
      "metadata": {
        "colab": {
          "base_uri": "https://localhost:8080/"
        },
        "id": "mjQgsHku7o7k",
        "outputId": "ace76607-5010-4fbf-cb40-d99f0e10d693"
      },
      "execution_count": 46,
      "outputs": [
        {
          "output_type": "execute_result",
          "data": {
            "text/plain": [
              "(3, 1)"
            ]
          },
          "metadata": {},
          "execution_count": 46
        }
      ]
    },
    {
      "cell_type": "code",
      "source": [
        "IPCA_Cidade.info()"
      ],
      "metadata": {
        "id": "Pl9YLs9hkLHb"
      },
      "execution_count": null,
      "outputs": []
    },
    {
      "cell_type": "code",
      "source": [
        "IPCA_Cidade.dtypes"
      ],
      "metadata": {
        "id": "5hqIMTROkSpr"
      },
      "execution_count": null,
      "outputs": []
    },
    {
      "cell_type": "code",
      "source": [
        "y=['Aracaju (SE)', 'Belo Horizonte (MG)', 'Belém (PA)', 'Brasília (DF)', 'Campo Grande (MS)', 'Curitiba (PR)', 'Fortaleza (CE)', 'Goiânia (GO)', 'Grande Vitória (ES)', 'Porto Alegre (RS)', 'Recife (PE)', 'Rio Branco (AC)', 'Rio de Janeiro (RJ)', 'Salvador (BA)', 'São Luís (MA)', 'São Paulo (SP)'] \n",
        "x=[1.26,1.07,0.97,0.93,1.06,1.28,0.77,0.91,0.86,0.43,0.97,0.93,1.32,0.83,1.33,1.05]  \n",
        "plt.barh(y, x) \n",
        "plt.ylabel(\"CIDADES\") \n",
        "plt.xlabel(\"VARIAÇÃO MENSAL POR CIDADE (%)\")  \n",
        "plt.title(\"Gráfico de Barra Horizontal\") \n",
        "plt.show() "
      ],
      "metadata": {
        "id": "CKgTLaZK3Crg"
      },
      "execution_count": null,
      "outputs": []
    },
    {
      "cell_type": "code",
      "source": [
        "# Variação mensal por Grupo em Fevereiro de 2022\n",
        "IPCA_Grupo = pd.read_csv('/content/Variação Mensal por Grupo Fev-2022.csv', delimiter=';')"
      ],
      "metadata": {
        "id": "RGqRw4RLm6Fv"
      },
      "execution_count": 52,
      "outputs": []
    },
    {
      "cell_type": "code",
      "source": [
        "IPCA_Grupo"
      ],
      "metadata": {
        "colab": {
          "base_uri": "https://localhost:8080/",
          "height": 416
        },
        "id": "C9x05Fhu2ZTB",
        "outputId": "12539c4f-9343-4049-e78b-282e54346107"
      },
      "execution_count": 53,
      "outputs": [
        {
          "output_type": "execute_result",
          "data": {
            "text/plain": [
              "                                                                                                                                                                                                                  Variação mensal por grupos\n",
              "                                                   1.Alimentação e bebidas 2.Habitação 3.Artigos de residência 4.Vestuário 5.Transportes 6.Saúde e cuidados pessoais 7.Despesas pessoais 8.Educação 9.Comunicação               Índice geral\n",
              "Brasil                                             1.28                    0.54        1.76                    0.88        0.46          0.47                        0.64                5.61       0.29                                1.01\n",
              "Fonte: \"IBGE - Índice Nacional de Preços ao Con... NaN                     NaN         NaN                     NaN         NaN           NaN                         NaN                 NaN        NaN                                  NaN"
            ],
            "text/html": [
              "\n",
              "  <div id=\"df-d30a2862-c831-4004-9a5c-fbb2d736f81e\">\n",
              "    <div class=\"colab-df-container\">\n",
              "      <div>\n",
              "<style scoped>\n",
              "    .dataframe tbody tr th:only-of-type {\n",
              "        vertical-align: middle;\n",
              "    }\n",
              "\n",
              "    .dataframe tbody tr th {\n",
              "        vertical-align: top;\n",
              "    }\n",
              "\n",
              "    .dataframe thead th {\n",
              "        text-align: right;\n",
              "    }\n",
              "</style>\n",
              "<table border=\"1\" class=\"dataframe\">\n",
              "  <thead>\n",
              "    <tr style=\"text-align: right;\">\n",
              "      <th></th>\n",
              "      <th></th>\n",
              "      <th></th>\n",
              "      <th></th>\n",
              "      <th></th>\n",
              "      <th></th>\n",
              "      <th></th>\n",
              "      <th></th>\n",
              "      <th></th>\n",
              "      <th></th>\n",
              "      <th>Variação mensal por grupos</th>\n",
              "    </tr>\n",
              "  </thead>\n",
              "  <tbody>\n",
              "    <tr>\n",
              "      <th></th>\n",
              "      <th>1.Alimentação e bebidas</th>\n",
              "      <th>2.Habitação</th>\n",
              "      <th>3.Artigos de residência</th>\n",
              "      <th>4.Vestuário</th>\n",
              "      <th>5.Transportes</th>\n",
              "      <th>6.Saúde e cuidados pessoais</th>\n",
              "      <th>7.Despesas pessoais</th>\n",
              "      <th>8.Educação</th>\n",
              "      <th>9.Comunicação</th>\n",
              "      <td>Índice geral</td>\n",
              "    </tr>\n",
              "    <tr>\n",
              "      <th>Brasil</th>\n",
              "      <th>1.28</th>\n",
              "      <th>0.54</th>\n",
              "      <th>1.76</th>\n",
              "      <th>0.88</th>\n",
              "      <th>0.46</th>\n",
              "      <th>0.47</th>\n",
              "      <th>0.64</th>\n",
              "      <th>5.61</th>\n",
              "      <th>0.29</th>\n",
              "      <td>1.01</td>\n",
              "    </tr>\n",
              "    <tr>\n",
              "      <th>Fonte: \"IBGE - Índice Nacional de Preços ao Consumidor Amplo\"</th>\n",
              "      <th>NaN</th>\n",
              "      <th>NaN</th>\n",
              "      <th>NaN</th>\n",
              "      <th>NaN</th>\n",
              "      <th>NaN</th>\n",
              "      <th>NaN</th>\n",
              "      <th>NaN</th>\n",
              "      <th>NaN</th>\n",
              "      <th>NaN</th>\n",
              "      <td>NaN</td>\n",
              "    </tr>\n",
              "  </tbody>\n",
              "</table>\n",
              "</div>\n",
              "      <button class=\"colab-df-convert\" onclick=\"convertToInteractive('df-d30a2862-c831-4004-9a5c-fbb2d736f81e')\"\n",
              "              title=\"Convert this dataframe to an interactive table.\"\n",
              "              style=\"display:none;\">\n",
              "        \n",
              "  <svg xmlns=\"http://www.w3.org/2000/svg\" height=\"24px\"viewBox=\"0 0 24 24\"\n",
              "       width=\"24px\">\n",
              "    <path d=\"M0 0h24v24H0V0z\" fill=\"none\"/>\n",
              "    <path d=\"M18.56 5.44l.94 2.06.94-2.06 2.06-.94-2.06-.94-.94-2.06-.94 2.06-2.06.94zm-11 1L8.5 8.5l.94-2.06 2.06-.94-2.06-.94L8.5 2.5l-.94 2.06-2.06.94zm10 10l.94 2.06.94-2.06 2.06-.94-2.06-.94-.94-2.06-.94 2.06-2.06.94z\"/><path d=\"M17.41 7.96l-1.37-1.37c-.4-.4-.92-.59-1.43-.59-.52 0-1.04.2-1.43.59L10.3 9.45l-7.72 7.72c-.78.78-.78 2.05 0 2.83L4 21.41c.39.39.9.59 1.41.59.51 0 1.02-.2 1.41-.59l7.78-7.78 2.81-2.81c.8-.78.8-2.07 0-2.86zM5.41 20L4 18.59l7.72-7.72 1.47 1.35L5.41 20z\"/>\n",
              "  </svg>\n",
              "      </button>\n",
              "      \n",
              "  <style>\n",
              "    .colab-df-container {\n",
              "      display:flex;\n",
              "      flex-wrap:wrap;\n",
              "      gap: 12px;\n",
              "    }\n",
              "\n",
              "    .colab-df-convert {\n",
              "      background-color: #E8F0FE;\n",
              "      border: none;\n",
              "      border-radius: 50%;\n",
              "      cursor: pointer;\n",
              "      display: none;\n",
              "      fill: #1967D2;\n",
              "      height: 32px;\n",
              "      padding: 0 0 0 0;\n",
              "      width: 32px;\n",
              "    }\n",
              "\n",
              "    .colab-df-convert:hover {\n",
              "      background-color: #E2EBFA;\n",
              "      box-shadow: 0px 1px 2px rgba(60, 64, 67, 0.3), 0px 1px 3px 1px rgba(60, 64, 67, 0.15);\n",
              "      fill: #174EA6;\n",
              "    }\n",
              "\n",
              "    [theme=dark] .colab-df-convert {\n",
              "      background-color: #3B4455;\n",
              "      fill: #D2E3FC;\n",
              "    }\n",
              "\n",
              "    [theme=dark] .colab-df-convert:hover {\n",
              "      background-color: #434B5C;\n",
              "      box-shadow: 0px 1px 3px 1px rgba(0, 0, 0, 0.15);\n",
              "      filter: drop-shadow(0px 1px 2px rgba(0, 0, 0, 0.3));\n",
              "      fill: #FFFFFF;\n",
              "    }\n",
              "  </style>\n",
              "\n",
              "      <script>\n",
              "        const buttonEl =\n",
              "          document.querySelector('#df-d30a2862-c831-4004-9a5c-fbb2d736f81e button.colab-df-convert');\n",
              "        buttonEl.style.display =\n",
              "          google.colab.kernel.accessAllowed ? 'block' : 'none';\n",
              "\n",
              "        async function convertToInteractive(key) {\n",
              "          const element = document.querySelector('#df-d30a2862-c831-4004-9a5c-fbb2d736f81e');\n",
              "          const dataTable =\n",
              "            await google.colab.kernel.invokeFunction('convertToInteractive',\n",
              "                                                     [key], {});\n",
              "          if (!dataTable) return;\n",
              "\n",
              "          const docLinkHtml = 'Like what you see? Visit the ' +\n",
              "            '<a target=\"_blank\" href=https://colab.research.google.com/notebooks/data_table.ipynb>data table notebook</a>'\n",
              "            + ' to learn more about interactive tables.';\n",
              "          element.innerHTML = '';\n",
              "          dataTable['output_type'] = 'display_data';\n",
              "          await google.colab.output.renderOutput(dataTable, element);\n",
              "          const docLink = document.createElement('div');\n",
              "          docLink.innerHTML = docLinkHtml;\n",
              "          element.appendChild(docLink);\n",
              "        }\n",
              "      </script>\n",
              "    </div>\n",
              "  </div>\n",
              "  "
            ]
          },
          "metadata": {},
          "execution_count": 53
        }
      ]
    },
    {
      "cell_type": "code",
      "source": [
        "IPCA_Grupo.shape\n"
      ],
      "metadata": {
        "colab": {
          "base_uri": "https://localhost:8080/"
        },
        "id": "ZIRtP5V7k0bI",
        "outputId": "39e42ab2-27a8-4ed1-a6ef-ad984b237fab"
      },
      "execution_count": 55,
      "outputs": [
        {
          "output_type": "execute_result",
          "data": {
            "text/plain": [
              "(3, 1)"
            ]
          },
          "metadata": {},
          "execution_count": 55
        }
      ]
    },
    {
      "cell_type": "code",
      "source": [
        "IPCA_Grupo.info()"
      ],
      "metadata": {
        "colab": {
          "base_uri": "https://localhost:8080/"
        },
        "id": "a8WTn9AQk7XZ",
        "outputId": "ecf1bfe2-b7fc-4478-ab5b-4af1c00eaf72"
      },
      "execution_count": 56,
      "outputs": [
        {
          "output_type": "stream",
          "name": "stdout",
          "text": [
            "<class 'pandas.core.frame.DataFrame'>\n",
            "MultiIndex: 3 entries, (' ', '1.Alimentação e bebidas', '2.Habitação', '3.Artigos de residência', '4.Vestuário', '5.Transportes', '6.Saúde e cuidados pessoais', '7.Despesas pessoais', '8.Educação', '9.Comunicação') to ('Fonte: \"IBGE - Índice Nacional de Preços ao Consumidor Amplo\"', nan, nan, nan, nan, nan, nan, nan, nan, nan)\n",
            "Data columns (total 1 columns):\n",
            " #   Column                      Non-Null Count  Dtype \n",
            "---  ------                      --------------  ----- \n",
            " 0   Variação mensal por grupos  2 non-null      object\n",
            "dtypes: object(1)\n",
            "memory usage: 1.4+ KB\n"
          ]
        }
      ]
    },
    {
      "cell_type": "code",
      "source": [
        "IPCA_Grupo.dtypes"
      ],
      "metadata": {
        "colab": {
          "base_uri": "https://localhost:8080/"
        },
        "id": "0V2ip7E8lCCU",
        "outputId": "0e4c7a23-2916-4897-d122-35cddad9424a"
      },
      "execution_count": 57,
      "outputs": [
        {
          "output_type": "execute_result",
          "data": {
            "text/plain": [
              "Variação mensal por grupos    object\n",
              "dtype: object"
            ]
          },
          "metadata": {},
          "execution_count": 57
        }
      ]
    },
    {
      "cell_type": "code",
      "source": [
        "y=['1.Alimentação e bebidas', '2.Habitação', '3.Artigos de residência', '4.Vestuário', '5.Transportes', '6.Saúde e cuidados pessoais', '7.Despesas pessoais', '8.Educação', '9.Comunicação'] \n",
        "x=[1.28,0.54,1.76,0.88,0.46,0.47,0.64,5.61,0.29]  \n",
        "plt.barh(y, x) \n",
        "plt.ylabel(\"GRUPOS\") \n",
        "plt.xlabel(\"VARIAÇÃO MENSAL POR GRUPO (%)\")  \n",
        "plt.title(\"Gráfico de Barra Horizontal\") \n",
        "plt.show() "
      ],
      "metadata": {
        "colab": {
          "base_uri": "https://localhost:8080/",
          "height": 474
        },
        "id": "thqxl5p8-5SQ",
        "outputId": "4880dddd-3e51-4a04-e643-9705a2c4a2b7"
      },
      "execution_count": 54,
      "outputs": [
        {
          "output_type": "display_data",
          "data": {
            "text/plain": [
              "<Figure size 640x480 with 1 Axes>"
            ],
            "image/png": "[encoded data removed]"
          },
          "metadata": {}
        }
      ]
    },
    {
      "cell_type": "markdown",
      "source": [
        "Referências Bibliográficas :    \n",
        "\n",
        "Pandas Documentação --> https://pandas.pydata.org/docs/\n",
        "\n",
        "Numpy Documentação --> https://numpy.org/doc/\n",
        "\n",
        "Seaborn Documentação --> http://seaborn.pydata.org/introduction.html \n",
        "\n",
        "Matplotlib Documentação --> Matplolib Homepage <https://matplotlib.org>\n",
        "\n",
        "\n",
        "scikit learn Documentação --> https://scikit-learn.org/\n",
        "\n",
        "IBGE - Instituto Brasileiro de Geografia e Estatística --> https://www.ibge.gov.br/\n",
        "\n",
        "Google --> https://www.google.com.br/\n",
        "\n",
        "BCB - Banco Central do Brasil --> https://www.bcb.gov.br/\n",
        "\n",
        "Site Consultados :\n",
        "\n",
        "Fonte : https://www.youtube.com/watch?v=7rFsu48oBn8\n",
        "\n",
        "www.bcb.gov.br\n",
        "\n",
        "https://www3.bcb.gov.br/sgspub/localizarseries/localizarSeries.do?method=prepararTelaLocalizarSeries\n",
        "\n",
        "http://api.bcb.gov.br/dados/serie/bcdata.sgs.20542/dados?formato=\n",
        "\n",
        "Fonte : https://www.youtube.com/watch?v=7rFsu48oBn8\n",
        "\n",
        "www.bcb.gov.br\n",
        "\n",
        "https://www3.bcb.gov.br/sgspub/localizarseries/localizarSeries.do?method=prepararTelaLocalizarSeries\n",
        "\n",
        "http://api.bcb.gov.br/dados/serie/bcdata.sgs.20542/dados?formato=json\n",
        "\n",
        "https://analisemacro.com.br/"
      ],
      "metadata": {
        "id": "Pe-0eM_givB5"
      }
    }
  ]
}